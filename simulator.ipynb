{
 "cells": [
  {
   "cell_type": "code",
   "execution_count": 6,
   "metadata": {},
   "outputs": [],
   "source": [
    "import pandas as pd"
   ]
  },
  {
   "cell_type": "code",
   "execution_count": 7,
   "metadata": {},
   "outputs": [],
   "source": [
    "balance = 100.0\n",
    "lot_size = 0.1"
   ]
  },
  {
   "cell_type": "code",
   "execution_count": 8,
   "metadata": {},
   "outputs": [],
   "source": [
    "pairs = []\n",
    "data = None"
   ]
  },
  {
   "cell_type": "code",
   "execution_count": 9,
   "metadata": {},
   "outputs": [],
   "source": [
    "pairs.append(pd.read_pickle(\"TRADES/EURUSD-march.pkl\"))\n",
    "pairs.append(pd.read_pickle(\"TRADES/GBPUSD-march.pkl\"))\n",
    "pairs.append(pd.read_pickle(\"TRADES/USDJPY-march.pkl\"))\n",
    "pairs.append(pd.read_pickle(\"TRADES/USDCAD-march.pkl\"))\n",
    "pairs.append(pd.read_pickle(\"TRADES/EURGBP-march.pkl\"))\n",
    "pairs.append(pd.read_pickle(\"TRADES/EURJPY-march.pkl\"))\n",
    "pairs.append(pd.read_pickle(\"TRADES/GBPJPY-march.pkl\"))\n",
    "pairs.append(pd.read_pickle(\"TRADES/GBPCAD-march.pkl\"))\n",
    "pairs.append(pd.read_pickle(\"TRADES/USDCHF-march.pkl\"))\n",
    "pairs.append(pd.read_pickle(\"TRADES/EURCAD-march.pkl\"))"
   ]
  },
  {
   "cell_type": "code",
   "execution_count": 10,
   "metadata": {},
   "outputs": [],
   "source": [
    "data = pd.concat(pairs)\n",
    "data.sort_values(by = \"time\", inplace = True)"
   ]
  },
  {
   "cell_type": "code",
   "execution_count": 11,
   "metadata": {},
   "outputs": [],
   "source": [
    "data[\"Account_Balance\"] = 0.0\n",
    "data.reset_index(inplace = True)"
   ]
  },
  {
   "cell_type": "code",
   "execution_count": 12,
   "metadata": {},
   "outputs": [],
   "source": [
    "for i in range(len(data)):\n",
    "\n",
    "        gain = round(((10 * lot_size) * data.loc[i, \"GAINS\"]), 2)\n",
    "        new_balance = balance + gain\n",
    "        data.loc[i, \"Account_Balance\"] = new_balance\n",
    "        balance = new_balance"
   ]
  },
  {
   "cell_type": "code",
   "execution_count": 13,
   "metadata": {},
   "outputs": [
    {
     "data": {
      "text/html": [
       "<div>\n",
       "<style scoped>\n",
       "    .dataframe tbody tr th:only-of-type {\n",
       "        vertical-align: middle;\n",
       "    }\n",
       "\n",
       "    .dataframe tbody tr th {\n",
       "        vertical-align: top;\n",
       "    }\n",
       "\n",
       "    .dataframe thead th {\n",
       "        text-align: right;\n",
       "    }\n",
       "</style>\n",
       "<table border=\"1\" class=\"dataframe\">\n",
       "  <thead>\n",
       "    <tr style=\"text-align: right;\">\n",
       "      <th></th>\n",
       "      <th>level_0</th>\n",
       "      <th>index</th>\n",
       "      <th>time</th>\n",
       "      <th>SYMBOL</th>\n",
       "      <th>SIGNALS</th>\n",
       "      <th>GAINS</th>\n",
       "      <th>Account_Balance</th>\n",
       "    </tr>\n",
       "  </thead>\n",
       "  <tbody>\n",
       "    <tr>\n",
       "      <th>0</th>\n",
       "      <td>155</td>\n",
       "      <td>155</td>\n",
       "      <td>2023-03-02 14:45:00</td>\n",
       "      <td>EURGBP</td>\n",
       "      <td>BUY</td>\n",
       "      <td>-6.0</td>\n",
       "      <td>94.0</td>\n",
       "    </tr>\n",
       "    <tr>\n",
       "      <th>1</th>\n",
       "      <td>172</td>\n",
       "      <td>172</td>\n",
       "      <td>2023-03-02 19:00:00</td>\n",
       "      <td>USDCAD</td>\n",
       "      <td>BUY</td>\n",
       "      <td>-12.0</td>\n",
       "      <td>82.0</td>\n",
       "    </tr>\n",
       "    <tr>\n",
       "      <th>2</th>\n",
       "      <td>356</td>\n",
       "      <td>356</td>\n",
       "      <td>2023-03-06 17:00:00</td>\n",
       "      <td>GBPUSD</td>\n",
       "      <td>BUY</td>\n",
       "      <td>18.0</td>\n",
       "      <td>100.0</td>\n",
       "    </tr>\n",
       "    <tr>\n",
       "      <th>3</th>\n",
       "      <td>548</td>\n",
       "      <td>548</td>\n",
       "      <td>2023-03-08 17:00:00</td>\n",
       "      <td>GBPUSD</td>\n",
       "      <td>SELL</td>\n",
       "      <td>-25.0</td>\n",
       "      <td>75.0</td>\n",
       "    </tr>\n",
       "    <tr>\n",
       "      <th>4</th>\n",
       "      <td>731</td>\n",
       "      <td>731</td>\n",
       "      <td>2023-03-10 14:45:00</td>\n",
       "      <td>EURUSD</td>\n",
       "      <td>BUY</td>\n",
       "      <td>-8.0</td>\n",
       "      <td>67.0</td>\n",
       "    </tr>\n",
       "    <tr>\n",
       "      <th>5</th>\n",
       "      <td>822</td>\n",
       "      <td>822</td>\n",
       "      <td>2023-03-13 12:30:00</td>\n",
       "      <td>GBPCAD</td>\n",
       "      <td>BUY</td>\n",
       "      <td>48.0</td>\n",
       "      <td>115.0</td>\n",
       "    </tr>\n",
       "    <tr>\n",
       "      <th>6</th>\n",
       "      <td>909</td>\n",
       "      <td>909</td>\n",
       "      <td>2023-03-14 10:15:00</td>\n",
       "      <td>GBPJPY</td>\n",
       "      <td>BUY</td>\n",
       "      <td>17.0</td>\n",
       "      <td>132.0</td>\n",
       "    </tr>\n",
       "    <tr>\n",
       "      <th>7</th>\n",
       "      <td>1299</td>\n",
       "      <td>1299</td>\n",
       "      <td>2023-03-20 11:45:00</td>\n",
       "      <td>USDCAD</td>\n",
       "      <td>SELL</td>\n",
       "      <td>44.0</td>\n",
       "      <td>176.0</td>\n",
       "    </tr>\n",
       "  </tbody>\n",
       "</table>\n",
       "</div>"
      ],
      "text/plain": [
       "   level_0  index                time  SYMBOL SIGNALS  GAINS  Account_Balance\n",
       "0      155    155 2023-03-02 14:45:00  EURGBP     BUY   -6.0             94.0\n",
       "1      172    172 2023-03-02 19:00:00  USDCAD     BUY  -12.0             82.0\n",
       "2      356    356 2023-03-06 17:00:00  GBPUSD     BUY   18.0            100.0\n",
       "3      548    548 2023-03-08 17:00:00  GBPUSD    SELL  -25.0             75.0\n",
       "4      731    731 2023-03-10 14:45:00  EURUSD     BUY   -8.0             67.0\n",
       "5      822    822 2023-03-13 12:30:00  GBPCAD     BUY   48.0            115.0\n",
       "6      909    909 2023-03-14 10:15:00  GBPJPY     BUY   17.0            132.0\n",
       "7     1299   1299 2023-03-20 11:45:00  USDCAD    SELL   44.0            176.0"
      ]
     },
     "execution_count": 13,
     "metadata": {},
     "output_type": "execute_result"
    }
   ],
   "source": [
    "data"
   ]
  }
 ],
 "metadata": {
  "kernelspec": {
   "display_name": "venv",
   "language": "python",
   "name": "python3"
  },
  "language_info": {
   "codemirror_mode": {
    "name": "ipython",
    "version": 3
   },
   "file_extension": ".py",
   "mimetype": "text/x-python",
   "name": "python",
   "nbconvert_exporter": "python",
   "pygments_lexer": "ipython3",
   "version": "3.11.4"
  }
 },
 "nbformat": 4,
 "nbformat_minor": 2
}

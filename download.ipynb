{
 "cells": [
  {
   "cell_type": "code",
   "execution_count": 7,
   "metadata": {},
   "outputs": [],
   "source": [
    "import pandas as pd\n",
    "import tradebot\n",
    "import json"
   ]
  },
  {
   "cell_type": "code",
   "execution_count": 8,
   "metadata": {},
   "outputs": [
    {
     "data": {
      "text/plain": [
       "True"
      ]
     },
     "execution_count": 8,
     "metadata": {},
     "output_type": "execute_result"
    }
   ],
   "source": [
    "tradebot.start_mt5(\"deriv-drv\")"
   ]
  },
  {
   "cell_type": "code",
   "execution_count": 9,
   "metadata": {},
   "outputs": [
    {
     "data": {
      "text/plain": [
       "True"
      ]
     },
     "execution_count": 9,
     "metadata": {},
     "output_type": "execute_result"
    }
   ],
   "source": [
    "symbol = \"Volatility 100 Index\"\n",
    "tradebot.initialize_symbol(symbol)"
   ]
  },
  {
   "cell_type": "code",
   "execution_count": 10,
   "metadata": {},
   "outputs": [
    {
     "data": {
      "text/html": [
       "<div>\n",
       "<style scoped>\n",
       "    .dataframe tbody tr th:only-of-type {\n",
       "        vertical-align: middle;\n",
       "    }\n",
       "\n",
       "    .dataframe tbody tr th {\n",
       "        vertical-align: top;\n",
       "    }\n",
       "\n",
       "    .dataframe thead th {\n",
       "        text-align: right;\n",
       "    }\n",
       "</style>\n",
       "<table border=\"1\" class=\"dataframe\">\n",
       "  <thead>\n",
       "    <tr style=\"text-align: right;\">\n",
       "      <th></th>\n",
       "      <th>time</th>\n",
       "      <th>open</th>\n",
       "      <th>high</th>\n",
       "      <th>low</th>\n",
       "      <th>close</th>\n",
       "      <th>tick_volume</th>\n",
       "      <th>spread</th>\n",
       "      <th>real_volume</th>\n",
       "    </tr>\n",
       "  </thead>\n",
       "  <tbody>\n",
       "    <tr>\n",
       "      <th>0</th>\n",
       "      <td>2024-02-14 22:00:00</td>\n",
       "      <td>2003.16</td>\n",
       "      <td>2005.41</td>\n",
       "      <td>2002.23</td>\n",
       "      <td>2004.43</td>\n",
       "      <td>29</td>\n",
       "      <td>45</td>\n",
       "      <td>0</td>\n",
       "    </tr>\n",
       "    <tr>\n",
       "      <th>1</th>\n",
       "      <td>2024-02-14 22:01:00</td>\n",
       "      <td>2004.86</td>\n",
       "      <td>2007.64</td>\n",
       "      <td>2004.00</td>\n",
       "      <td>2005.64</td>\n",
       "      <td>30</td>\n",
       "      <td>45</td>\n",
       "      <td>0</td>\n",
       "    </tr>\n",
       "    <tr>\n",
       "      <th>2</th>\n",
       "      <td>2024-02-14 22:02:00</td>\n",
       "      <td>2004.90</td>\n",
       "      <td>2007.51</td>\n",
       "      <td>2003.10</td>\n",
       "      <td>2006.16</td>\n",
       "      <td>30</td>\n",
       "      <td>45</td>\n",
       "      <td>0</td>\n",
       "    </tr>\n",
       "    <tr>\n",
       "      <th>3</th>\n",
       "      <td>2024-02-14 22:03:00</td>\n",
       "      <td>2006.12</td>\n",
       "      <td>2008.38</td>\n",
       "      <td>2005.74</td>\n",
       "      <td>2008.38</td>\n",
       "      <td>29</td>\n",
       "      <td>45</td>\n",
       "      <td>0</td>\n",
       "    </tr>\n",
       "    <tr>\n",
       "      <th>4</th>\n",
       "      <td>2024-02-14 22:04:00</td>\n",
       "      <td>2007.58</td>\n",
       "      <td>2008.24</td>\n",
       "      <td>2005.73</td>\n",
       "      <td>2006.27</td>\n",
       "      <td>29</td>\n",
       "      <td>45</td>\n",
       "      <td>0</td>\n",
       "    </tr>\n",
       "    <tr>\n",
       "      <th>...</th>\n",
       "      <td>...</td>\n",
       "      <td>...</td>\n",
       "      <td>...</td>\n",
       "      <td>...</td>\n",
       "      <td>...</td>\n",
       "      <td>...</td>\n",
       "      <td>...</td>\n",
       "      <td>...</td>\n",
       "    </tr>\n",
       "    <tr>\n",
       "      <th>2876</th>\n",
       "      <td>2024-02-16 21:56:00</td>\n",
       "      <td>1947.45</td>\n",
       "      <td>1948.22</td>\n",
       "      <td>1946.15</td>\n",
       "      <td>1946.63</td>\n",
       "      <td>30</td>\n",
       "      <td>53</td>\n",
       "      <td>0</td>\n",
       "    </tr>\n",
       "    <tr>\n",
       "      <th>2877</th>\n",
       "      <td>2024-02-16 21:57:00</td>\n",
       "      <td>1946.69</td>\n",
       "      <td>1948.01</td>\n",
       "      <td>1945.27</td>\n",
       "      <td>1946.42</td>\n",
       "      <td>30</td>\n",
       "      <td>53</td>\n",
       "      <td>0</td>\n",
       "    </tr>\n",
       "    <tr>\n",
       "      <th>2878</th>\n",
       "      <td>2024-02-16 21:58:00</td>\n",
       "      <td>1946.49</td>\n",
       "      <td>1946.50</td>\n",
       "      <td>1942.46</td>\n",
       "      <td>1944.83</td>\n",
       "      <td>29</td>\n",
       "      <td>53</td>\n",
       "      <td>0</td>\n",
       "    </tr>\n",
       "    <tr>\n",
       "      <th>2879</th>\n",
       "      <td>2024-02-16 21:59:00</td>\n",
       "      <td>1944.14</td>\n",
       "      <td>1946.53</td>\n",
       "      <td>1942.75</td>\n",
       "      <td>1946.23</td>\n",
       "      <td>30</td>\n",
       "      <td>53</td>\n",
       "      <td>0</td>\n",
       "    </tr>\n",
       "    <tr>\n",
       "      <th>2880</th>\n",
       "      <td>2024-02-16 22:00:00</td>\n",
       "      <td>1945.76</td>\n",
       "      <td>1945.76</td>\n",
       "      <td>1943.01</td>\n",
       "      <td>1945.44</td>\n",
       "      <td>29</td>\n",
       "      <td>53</td>\n",
       "      <td>0</td>\n",
       "    </tr>\n",
       "  </tbody>\n",
       "</table>\n",
       "<p>2881 rows × 8 columns</p>\n",
       "</div>"
      ],
      "text/plain": [
       "                    time     open     high      low    close  tick_volume  \\\n",
       "0    2024-02-14 22:00:00  2003.16  2005.41  2002.23  2004.43           29   \n",
       "1    2024-02-14 22:01:00  2004.86  2007.64  2004.00  2005.64           30   \n",
       "2    2024-02-14 22:02:00  2004.90  2007.51  2003.10  2006.16           30   \n",
       "3    2024-02-14 22:03:00  2006.12  2008.38  2005.74  2008.38           29   \n",
       "4    2024-02-14 22:04:00  2007.58  2008.24  2005.73  2006.27           29   \n",
       "...                  ...      ...      ...      ...      ...          ...   \n",
       "2876 2024-02-16 21:56:00  1947.45  1948.22  1946.15  1946.63           30   \n",
       "2877 2024-02-16 21:57:00  1946.69  1948.01  1945.27  1946.42           30   \n",
       "2878 2024-02-16 21:58:00  1946.49  1946.50  1942.46  1944.83           29   \n",
       "2879 2024-02-16 21:59:00  1944.14  1946.53  1942.75  1946.23           30   \n",
       "2880 2024-02-16 22:00:00  1945.76  1945.76  1943.01  1945.44           29   \n",
       "\n",
       "      spread  real_volume  \n",
       "0         45            0  \n",
       "1         45            0  \n",
       "2         45            0  \n",
       "3         45            0  \n",
       "4         45            0  \n",
       "...      ...          ...  \n",
       "2876      53            0  \n",
       "2877      53            0  \n",
       "2878      53            0  \n",
       "2879      53            0  \n",
       "2880      53            0  \n",
       "\n",
       "[2881 rows x 8 columns]"
      ]
     },
     "execution_count": 10,
     "metadata": {},
     "output_type": "execute_result"
    }
   ],
   "source": [
    "candles = tradebot.get_candlesticks_range(symbol = symbol, timeframe = \"M1\", startdate =\"2024-02-15\", enddate = \"2024-02-17\")\n",
    "#candles = tradebot.get_candlesticks(symbol = symbol, timeframe = \"H1\", offset = 1, limit = 5000)\n",
    "candles"
   ]
  },
  {
   "cell_type": "code",
   "execution_count": 11,
   "metadata": {},
   "outputs": [],
   "source": [
    "#pd.to_pickle(candles, \"EURCHF/EURCHF-M15-save-12-december.pkl\")\n",
    "#pd.to_pickle(candles, \"V-100/Volatility-100-Index-H1-save-01.pkl\")\n",
    "pd.to_pickle(candles, \"V-100/Volatility-100-Index-M1-save-2024-02-16.pkl\")"
   ]
  }
 ],
 "metadata": {
  "kernelspec": {
   "display_name": "venv",
   "language": "python",
   "name": "python3"
  },
  "language_info": {
   "codemirror_mode": {
    "name": "ipython",
    "version": 3
   },
   "file_extension": ".py",
   "mimetype": "text/x-python",
   "name": "python",
   "nbconvert_exporter": "python",
   "pygments_lexer": "ipython3",
   "version": "3.11.4"
  },
  "orig_nbformat": 4
 },
 "nbformat": 4,
 "nbformat_minor": 2
}
